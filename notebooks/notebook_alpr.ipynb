{
 "cells": [
  {
   "cell_type": "code",
   "execution_count": null,
   "id": "legitimate-horizontal",
   "metadata": {},
   "outputs": [],
   "source": [
    "from inference import FRCNNRecognitionInference, YoloRecognitionInference\n",
    "from dataset import PlatesDataset\n",
    "import os\n",
    "from sklearn.metrics import accuracy_score\n",
    "## Конфигурация для инференса\n",
    "\n",
    "InferenceConfig = {\n",
    "    'detection_model': 'DetectionModels/best.pt',\n",
    "    'ocr_model': {'lang_list': ['en'], 'recog_network': 'alpr_2', 'user_network_directory': './user_network/',\n",
    "                              'model_storage_directory': './model/', 'detector': False},\n",
    "    'device': 'cuda'\n",
    "    \n",
    "}\n",
    "yolo_int = YoloRecognitionInference(inference_config=InferenceConfig)"
   ]
  },
  {
   "cell_type": "code",
   "execution_count": null,
   "id": "centered-tourist",
   "metadata": {},
   "outputs": [],
   "source": [
    "# Посчитаем метрики\n",
    "\n",
    "root_path = r\"../data\"\n",
    "json_path = r\"../data/train.json\"\n",
    "val_size = 0.2\n",
    "valset = PlatesDataset(root_path=root_path, json_path=json_path,\n",
    "                       sample_type='val', val_size=val_size)\n",
    "\n",
    "data_folder = '../data'\n",
    "img_list = [os.path.join(data_folder, object['file']) for object in valset.img_list if len(object['nums'])==1]\n",
    "\n",
    "results = yolo_int.predict_img_list(img_list)"
   ]
  },
  {
   "cell_type": "code",
   "execution_count": null,
   "id": "1cadfc84",
   "metadata": {
    "pycharm": {
     "name": "#%%\n"
    }
   },
   "outputs": [],
   "source": [
    "## Почитаем метрику Accuracy для валидационной выборки\n",
    "results = [i[0] if len(i) > 0 else \"\" for i in results ]\n",
    "true_texts = [object['nums'][0]['text'] for object in valset.img_list if len(object['nums'])==1]\n",
    "print(f'Accuracy score: {round(100*accuracy_score(true_texts, results), 2)}%')"
   ]
  },
  {
   "cell_type": "code",
   "execution_count": null,
   "id": "c28f9807",
   "metadata": {
    "pycharm": {
     "name": "#%%\n"
    }
   },
   "outputs": [],
   "source": [
    "%matplotlib inline \n",
    "yolo_int.visualize_image(\"test_images/711.jpg\")"
   ]
  },
  {
   "cell_type": "code",
   "execution_count": null,
   "id": "nuclear-broadcast",
   "metadata": {},
   "outputs": [],
   "source": [
    "from inference import FRCNNRecognitionInference, YoloRecognitionInference\n",
    "from dataset import PlatesDataset\n",
    "import os\n",
    "from sklearn.metrics import accuracy_score\n",
    "\n",
    "InferenceConfig = {\n",
    "    'detection_model': 'DetectionModels/faster_rcnn_v5_17.pth',\n",
    "    'ocr_model': {'lang_list': ['en'], 'recog_network': 'alpr_2', 'user_network_directory': './user_network/',\n",
    "                              'model_storage_directory': './model/', 'detector': False},\n",
    "    'device': 'cuda'\n",
    "    \n",
    "}\n",
    "\n",
    "fasterrcnn_int = FRCNNRecognitionInference(inference_config=InferenceConfig)\n",
    "\n",
    "\n",
    "root_path = r\"../vkcv2022-contest-02-carplates/data/\"\n",
    "json_path = r\"../vkcv2022-contest-02-carplates/data/train.json\"\n",
    "val_size = 0.2\n",
    "valset = PlatesDataset(root_path=root_path, json_path=json_path,\n",
    "                       sample_type='val', val_size=val_size)\n",
    "\n",
    "data_folder = r\"../vkcv2022-contest-02-carplates/data/\"\n",
    "img_list = [os.path.join(data_folder, object['file']) for object in valset.img_list if len(object['nums'])==1]\n",
    "\n",
    "results_frcnn = fasterrcnn_int.predict_img_list(img_list)"
   ]
  },
  {
   "cell_type": "code",
   "execution_count": null,
   "id": "complex-litigation",
   "metadata": {},
   "outputs": [],
   "source": [
    "## Почитаем метрику Accuracy для валидационной выборки\n",
    "true_texts = [object['nums'][0]['text'] for object in valset.img_list if len(object['nums'])==1]\n",
    "print(f'Accuracy score: {round(100*accuracy_score(true_texts, results_frcnn), 2)}%')"
   ]
  },
  {
   "cell_type": "code",
   "execution_count": null,
   "id": "ec0a27a5",
   "metadata": {
    "pycharm": {
     "name": "#%%\n"
    }
   },
   "outputs": [],
   "source": [
    "%matplotlib inline\n",
    "fasterrcnn_int.visualize_image(\"test_images/711.jpg\")"
   ]
  }
 ],
 "metadata": {
  "kernelspec": {
   "display_name": "Python 3 (ipykernel)",
   "language": "python",
   "name": "python3"
  },
  "language_info": {
   "codemirror_mode": {
    "name": "ipython",
    "version": 3
   },
   "file_extension": ".py",
   "mimetype": "text/x-python",
   "name": "python",
   "nbconvert_exporter": "python",
   "pygments_lexer": "ipython3",
   "version": "3.10.9"
  }
 },
 "nbformat": 4,
 "nbformat_minor": 5
}
